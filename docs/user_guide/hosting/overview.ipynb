{
 "cells": [
  {
   "cell_type": "markdown",
   "metadata": {},
   "source": [
    "# Hosting physrisk\n",
    "\n",
    "The physrisk library is designed to be hosted as a service. The [phsrisk-api project](https://github.com/os-climate/physrisk-api) provides an example as to how this can be done.\n",
    "\n",
    "\n"
   ]
  }
 ],
 "metadata": {
  "language_info": {
   "name": "python"
  }
 },
 "nbformat": 4,
 "nbformat_minor": 2
}
